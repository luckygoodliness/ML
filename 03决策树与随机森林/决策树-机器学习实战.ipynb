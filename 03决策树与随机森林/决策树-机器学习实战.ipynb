{
 "cells": [
  {
   "cell_type": "code",
   "execution_count": null,
   "metadata": {
    "collapsed": true
   },
   "outputs": [],
   "source": [
    "'''\n",
    "决策树 概述\n",
    "\n",
    "决策树（Decision Tree）算法是一种基本的分类与回归方法，是最经常使用的数据挖掘算法之一。我们这章节只讨论用于分类的决策树。\n",
    "决策树模型呈树形结构，在分类问题中，表示基于特征对实例进行分类的过程。它可以认为是 if-then 规则的集合，也可以认为是定义\n",
    "在特征空间与类空间上的条件概率分布。\n",
    "\n",
    "决策树学习通常包括 3 个步骤：特征选择、决策树的生成和决策树的修剪。\n",
    "'''"
   ]
  },
  {
   "cell_type": "code",
   "execution_count": null,
   "metadata": {
    "collapsed": true
   },
   "outputs": [],
   "source": [
    "'''\n",
    "机器学习实战：自学总结，\n",
    "1.github AI社区的例子\n",
    "缺点：都是书中精简过的，部分内容的承前启后省略了，代码虽然有注释，但是部分注释含糊不清，甚至有错误，误导的地方。视频讲解的也不清楚——例如 决策树中的 划分数据集函数部分，特征一会说成属性，一会又说成特征，不统一。另外这部分本身就比较模糊，书本中描述的也是模糊不清。——最好结合代码，在机器上进行跑一遍，对着中间输出过程结果，结合书本的承前启后的内容进行仔细过一遍。\n",
    "优点：但是代码都有注释。\n",
    "\n",
    "2.课本：\n",
    "缺点：代码解释不清晰，没有每行解释，导致一些关键行代码不清原理\n",
    "代码是将理论落地的实践过程，是代码工程的具体实践体现，如果理解不透，则不能很好地理解，理论如何转化实践过程\n",
    "有点：内容比较连贯，承前启后，有一些补充说明\n",
    "\n",
    "3.个人体会：\n",
    "在python代码实现算法的过程中，一是要明确各个算法的 \n",
    "1.输入参数：参数意义、参数数据格式\n",
    "2.输出返回值：返回值意义，返回值数据格式\n",
    "3.对于代码不理解的，上机查看中间过程输出结果，对比代码、书理论、运行结果理解，有时候运行结果非常直观，一下子就明白了书中很多段模糊的话所描述的意思\n",
    "4.特别是参数的用语：社区例子和书中都没有很好的统一用语，容易导致读者混乱\n",
    "\n",
    "    标签：不明语义下有以下情况\n",
    "\n",
    "    训练数据集：是一个矩阵，每一行是一个实例，每一行的数据组成是 前几列为   \n",
    "              特征值，最后一列数据为类别标签\n",
    "    特征标签：训练数据集的特征列，直接输入的是特征值，并没有标题，即没有\n",
    "            特征名称说明，特征标签就是单独将特征名称按照从左到右的顺序  \n",
    "            取出来，组成一个list\n",
    "    类标签：指的是数据集的类别标签值，即最后一列类别的各种取值\n",
    "\n",
    "    字典特殊的键值对结构\n",
    "    键：key，描述用语统一用键数据、键信息\n",
    "    值：value，描述用语统一用值数据、值信息\n",
    "    例如直接来一个键值：在文中就很模糊，需要根据上下文，到底是键数据，还是键数据对应的值数据。\n",
    "\n",
    "5. 构建决策树的过程中，会对特征名称列表进行逐步的特征名删除\n",
    "在构建完成决策树进行测试的时候，要对特征名称列表重新生成\n",
    "\n",
    "6.对于模型需要的数据结构和格式，每个方法也有特别的要求，这个需要结合具体的代码和运行结果进行观察，\n",
    "因为针对不同的数据格式list of list，还是矩阵，还是矩阵的一行实例，都需要不同的数据格式处理方式，\n",
    "表现在代码的处理上也不一样\n",
    "'''"
   ]
  },
  {
   "cell_type": "code",
   "execution_count": null,
   "metadata": {
    "collapsed": true
   },
   "outputs": [],
   "source": [
    "'''\n",
    "决策树的定义：\n",
    "\n",
    "分类决策树模型是一种描述对实例进行分类的树形结构。决策树由结点（node）和有向边（directed edge）组成。\n",
    "结点有两种类型：内部结点（internal node）和叶结点（leaf node）。内部结点表示一个特征或属性(features)，\n",
    "叶结点表示一个类(labels)。\n",
    "\n",
    "用决策树对需要测试的实例进行分类：从根节点开始，对实例的某一特征进行测试，根据测试结果，将实例分配到其子结点；\n",
    "这时，每一个子结点对应着该特征的一个取值。如此递归地对实例进行测试并分配，直至达到叶结点。最后将实例分配到叶结点的类中。\n",
    "'''"
   ]
  },
  {
   "cell_type": "code",
   "execution_count": null,
   "metadata": {
    "collapsed": true
   },
   "outputs": [],
   "source": [
    "'''\n",
    "决策树 须知概念\n",
    "信息熵 & 信息增益\n",
    "\n",
    "熵（entropy）： 熵指的是体系的混乱的程度，在不同的学科中也有引申出的更为具体的定义，是各领域十分重要的参量。\n",
    "\n",
    "信息论（information theory）中的熵（香农熵）： 是一种信息的度量方式，表示信息的混乱程度，也就是说：信息越有序，信息熵越低。例如：火柴有序放在火柴盒里，熵值很低，相反，熵值很高。\n",
    "\n",
    "信息增益（information gain）： 在划分数据集前后信息熵发生的变化称为信息增益。\n",
    "\n",
    "决策树 工作原理\n",
    "如何构造一个决策树?\n",
    "我们使用 createBranch() 方法，如下所示：\n",
    "\n",
    "def createBranch():\n",
    "\n",
    "    # 此处运用了迭代的思想。 感兴趣可以搜索 迭代 recursion， 甚至是 dynamic programing。\n",
    "\n",
    "    检测数据集中的所有数据的分类标签是否相同:\n",
    "        If so return 类标签\n",
    "        Else:\n",
    "            寻找划分数据集的最好特征（划分之后信息熵最小，也就是信息增益最大的特征）\n",
    "            划分数据集\n",
    "            创建分支节点\n",
    "                for 每个划分的子集\n",
    "                    调用函数 createBranch （创建分支的函数）并增加返回结果到分支节点中\n",
    "            return 分支节点\n",
    "            \n",
    "决策树 开发流程\n",
    "\n",
    "收集数据：可以使用任何方法。\n",
    "准备数据：树构造算法 (这里使用的是ID3算法，只适用于标称型数据，这就是为什么数值型数据必须离散化。 还有其他的树构造算法，比如CART)\n",
    "分析数据：可以使用任何方法，构造树完成之后，我们应该检查图形是否符合预期。\n",
    "训练算法：构造树的数据结构。\n",
    "测试算法：使用训练好的树计算错误率。\n",
    "使用算法：此步骤可以适用于任何监督学习任务，而使用决策树可以更好地理解数据的内在含义。\n",
    "决策树 算法特点\n",
    "优点：计算复杂度不高，输出结果易于理解，数据有缺失也能跑，可以处理不相关特征。\n",
    "缺点：容易过拟合。\n",
    "适用数据类型：数值型和标称型。\n",
    "'''"
   ]
  },
  {
   "cell_type": "code",
   "execution_count": null,
   "metadata": {
    "collapsed": true
   },
   "outputs": [],
   "source": [
    "'''\n",
    "项目案例1: 判定鱼类和非鱼类\n",
    "项目概述\n",
    "根据以下 2 个特征，将动物分成两类：鱼类和非鱼类。\n",
    "\n",
    "特征：\n",
    "不浮出水面是否可以生存\n",
    "是否有脚蹼\n",
    "\n",
    "开发流程\n",
    "完整代码地址: https://github.com/apachecn/AiLearning/blob/master/src/py2.x/ml/3.DecisionTree/DecisionTree.py\n",
    "\n",
    "收集数据：可以使用任何方法\n",
    "准备数据：树构造算法（这里使用的是ID3算法，因此数值型数据必须离散化。）\n",
    "分析数据：可以使用任何方法，构造树完成之后，我们可以将树画出来。\n",
    "训练算法：构造树结构\n",
    "测试算法：使用习得的决策树执行分类\n",
    "使用算法：此步骤可以适用于任何监督学习任务，而使用决策树可以更好地理解数据的内在含义\n",
    "'''"
   ]
  },
  {
   "cell_type": "code",
   "execution_count": 51,
   "metadata": {
    "collapsed": true
   },
   "outputs": [],
   "source": [
    "'''\n",
    "1. 我们利用 createDataSet() 函数输入数据\n",
    "'''\n",
    "def createDataSet():\n",
    "    dataSet = [[1,1,'yes'],\n",
    "               [1,1,'yes'],\n",
    "               [1,0,'no'],\n",
    "               [0,1,'no'],\n",
    "               [0,1,'no']]\n",
    "    labels = ['no surfacing','flippers']\n",
    "    return dataSet,labels"
   ]
  },
  {
   "cell_type": "code",
   "execution_count": null,
   "metadata": {
    "collapsed": true
   },
   "outputs": [],
   "source": [
    "'''\n",
    "2.准备数据：树构造算法\n",
    "此处，由于我们输入的数据本身就是离散化数据，所以这一步就省略了。\n",
    "3.分析数据：可以使用任何方法，构造树完成之后，我们可以将树画出来。\n",
    "'''\n"
   ]
  },
  {
   "cell_type": "code",
   "execution_count": null,
   "metadata": {
    "collapsed": true
   },
   "outputs": [],
   "source": [
    "'''\n",
    "补充：用字典(key,value)的形式，来推某一类型进行统计\n",
    "'''\n",
    "# 机器学习实战 写法：\n",
    "# 遇到一个新的键数据，键数据没有出现在字典结构中，需要在字典中新建键值对\n",
    "if currentLabel not in labelCounts.keys():\n",
    "    labelCounts[currentLabel] = 0\n",
    "# 使用一个字典类型labelCounts={}，统计各实例的类别标签出现的次数\n",
    "labelCounts[currentLabel] += 1\n",
    "\n",
    "# python语言程序设计基础 嵩天写法：\n",
    "if currentLabel in labelCounts:\n",
    "    labelCounts[currentLabel] = labelCounts[currentLabel] + 1\n",
    "else:\n",
    "    labelCounts[currentLabel] = 1\n",
    "    \n",
    "# 简写法：.get(key,default)键信息存在则返回相应值信息，否则返回默认值\n",
    "labelCounts[currentLabel] = labelCounts.get(currentLabel,0) + 1\n"
   ]
  },
  {
   "cell_type": "code",
   "execution_count": 9,
   "metadata": {
    "collapsed": true
   },
   "outputs": [],
   "source": [
    "'''\n",
    "4.计算给定数据集的香农熵的函数:\n",
    "  度量数据集的无序程度，混合类型数据越多，熵值越大\n",
    "'''\n",
    "from math import log\n",
    "\n",
    "def calcShannonEnt(dataSet):\n",
    "    #求list的长度，表示计算参与训练的数据量\n",
    "    numEntries = len(dataSet)\n",
    "    #通过字典，来统计某一个类的数量：计算分类标签label出现的次数\n",
    "    labelCounts = {}\n",
    "    #\n",
    "    for featVec in dataSet:\n",
    "        # 将当前实例的类别标签存储，即每一行数据的最后一个数据代表的是标签，即类别标签是否为鱼：yes、no\n",
    "        currentLabel = featVec[-1]\n",
    "        # 为所有可能的分类创建字典，如果当前的键数据不存在，则扩展字典并将当前键数据加入字典。\n",
    "        # 每个键值都记录了当前类别出现的次数。\n",
    "        # 键对应当前的类别，值对应当前类别出现的次数\n",
    "        if currentLabel not in labelCounts.keys():\n",
    "            labelCounts[currentLabel] = 0\n",
    "        labelCounts[currentLabel] += 1\n",
    "    \n",
    "    '''\n",
    "    简写法：.get(key,default)键信息存在则返回相应值信息，否则返回默认值\n",
    "    labelCounts[currentLabel] = labelCounts.get(currentLabel,0) + 1\n",
    "    '''\n",
    "        \n",
    "        \n",
    "    # 对于label标签的占比，求出label标签的香农熵\n",
    "    shannonEnt = 0.0\n",
    "    # 字典中键值对的键数据，相当于for循环的索引值key\n",
    "    for key in labelCounts:\n",
    "        # 使用所有类标签的发生频率计算类别出现的概率\n",
    "        prob = float(labelCounts[key])/numEntries\n",
    "        # 计算香农熵，以2为底求对数\n",
    "        shannonEnt -= prob * log(prob,2)\n",
    "    return shannonEnt\n",
    "        "
   ]
  },
  {
   "cell_type": "code",
   "execution_count": 55,
   "metadata": {},
   "outputs": [
    {
     "name": "stdout",
     "output_type": "stream",
     "text": [
      "[[1, 1, 'yes'], [1, 1, 'yes'], [1, 0, 'no'], [0, 1, 'no'], [0, 1, 'no']]\n",
      "['no surfacing', 'flippers']\n"
     ]
    },
    {
     "data": {
      "text/plain": [
       "0.9709505944546686"
      ]
     },
     "execution_count": 55,
     "metadata": {},
     "output_type": "execute_result"
    }
   ],
   "source": [
    "# 测试原始数据集的熵值\n",
    "myDat,labels = createDataSet()\n",
    "print(myDat)\n",
    "print(labels)\n",
    "calcShannonEnt(myDat)"
   ]
  },
  {
   "cell_type": "code",
   "execution_count": 13,
   "metadata": {},
   "outputs": [
    {
     "name": "stdout",
     "output_type": "stream",
     "text": [
      "[[1, 1, 'maybe'], [1, 1, 'yes'], [1, 0, 'no'], [0, 1, 'no'], [0, 1, 'no']]\n"
     ]
    },
    {
     "data": {
      "text/plain": [
       "1.3709505944546687"
      ]
     },
     "execution_count": 13,
     "metadata": {},
     "output_type": "execute_result"
    }
   ],
   "source": [
    "# 对原始数据集增加分类，观察熵值变大\n",
    "myDat[0][-1]='maybe'\n",
    "print(myDat)\n",
    "calcShannonEnt(myDat)"
   ]
  },
  {
   "cell_type": "code",
   "execution_count": 16,
   "metadata": {
    "collapsed": true
   },
   "outputs": [],
   "source": [
    "'''\n",
    "5.按照给定特征划分数据集：\n",
    "\n",
    "分类算法：\n",
    "\n",
    "1.需要测量数据集信息熵\n",
    "2.需要划分数据集\n",
    "3.度量划分数据集的熵\n",
    "4.判断当前划分是否正确\n",
    "\n",
    "对每个特征划分数据集的结果计算一次信息熵，然后判断按照那个特征划分数据集是最好的划分方式。\n",
    "'''\n",
    "\n",
    "'''\n",
    "按照某个特征划分数据集，将所有符合该特征值的元素抽取出来：\n",
    "1.指定哪个特征 参数index\n",
    "2.指定该特征的值 参数value\n",
    "\n",
    "splitDataSet(通过遍历dataSet数据集，求出index对应的colnum列的值为value的行)\n",
    "  就是依据index列进行分类，如果index列的数据等于value的时候，就要将 index 划分\n",
    "  到我们创建的新的数据集中\n",
    "\n",
    "参数：\n",
    "1.dataSet：待划分的数据集，为一个矩阵，每一行为一个实例。\n",
    "2.index：划分数据集的特征,指定按照数据集第几个特征划分。表示每一行实例的index特征列，即每一行的特征列,\n",
    "         每一行有若干个特征列，index指定选取第几个特征列。\n",
    "3.value：指定数据集第几个特征所对应的特征值。需要返回的特征值,表示每一行实例，指定选取的第index个特征列所对应的value值\n",
    "\n",
    "返回值：\n",
    "  返回，取第index个特征列中，特征值为value的数据集【该数据集需要排除index列】\n",
    "  该数据集需要排除第index个特征列，即返回的数据集要把这个用来指定划分的特征列去掉\n",
    "'''\n",
    "def splitDataSet(dataSet,index,value):\n",
    "    retDataSet = []\n",
    "    # 取出数据集矩阵中的每一行，即为一个实例\n",
    "    for featVec in dataSet:\n",
    "        # 判断index列的值是否为value\n",
    "        if featVec[index] == value:\n",
    "            # [:index]表示前index行，即若 index 为2，就是取 featVec 的前 index 行\n",
    "            reduceFeatVec = featVec[:index]            \n",
    "            # 用extend来拼接每行的特征列数据，跳过指定的第index个特征列，继续拼接后续列，形成新的一行实例数据\n",
    "            # [index+1:]表示从跳过 index 的 index+1行，取接下来的数据\n",
    "            reduceFeatVec.extend(featVec[index+1:])\n",
    "            # 用append来拼接每行的实例，形成list of list 格式的矩阵数据集\n",
    "            # 数据集 ：所有第index个特征，特征值为value的矩阵的行，组成的数据集\n",
    "            # 该数据集需要排除第index个特征列，即返回的数据集要把这个用来指定划分的特征列去掉\n",
    "            retDataSet.append(reduceFeatVec)\n",
    "    return retDataSet\n",
    "            "
   ]
  },
  {
   "cell_type": "code",
   "execution_count": null,
   "metadata": {
    "collapsed": true
   },
   "outputs": [],
   "source": [
    "    dataSet = [[1,1,'maybe'],\n",
    "               [1,1,'yes'],\n",
    "               [1,0,'no'],\n",
    "               [0,1,'no'],\n",
    "               [0,1,'no']]"
   ]
  },
  {
   "cell_type": "code",
   "execution_count": 19,
   "metadata": {},
   "outputs": [
    {
     "name": "stdout",
     "output_type": "stream",
     "text": [
      "[[1, 1, 'maybe'], [1, 1, 'yes'], [1, 0, 'no'], [0, 1, 'no'], [0, 1, 'no']]\n"
     ]
    },
    {
     "data": {
      "text/plain": [
       "[[1, 'maybe'], [1, 'yes'], [0, 'no'], [0, 'no']]"
      ]
     },
     "execution_count": 19,
     "metadata": {},
     "output_type": "execute_result"
    }
   ],
   "source": [
    "'''\n",
    "文字描述不清的语义，解释：直接先运行一下结果，看返回值，就一目了然！！\n",
    "'''\n",
    "'''\n",
    "splitDataSet方法测试\n",
    "'''\n",
    "# 在数据集样本上测试splitDataSet()函数\n",
    "print(myDat)\n",
    "# 返回，第1个特征值（从0开始），值为1的所有实例，即矩阵的行\n",
    "splitDataSet(myDat,1,1)"
   ]
  },
  {
   "cell_type": "code",
   "execution_count": 22,
   "metadata": {},
   "outputs": [
    {
     "data": {
      "text/plain": [
       "[[1, 'maybe'], [1, 'yes'], [0, 'no']]"
      ]
     },
     "execution_count": 22,
     "metadata": {},
     "output_type": "execute_result"
    }
   ],
   "source": [
    "# 返回，第0个特征值，值为1的所有实例，即矩阵的行\n",
    "# 第index=0个特征列，特征值为value=1的数据集\n",
    "#【该数据集需要排除第index=0个特征列，所以只剩下两列的数据】\n",
    "splitDataSet(myDat,0,1)"
   ]
  },
  {
   "cell_type": "code",
   "execution_count": null,
   "metadata": {
    "collapsed": true
   },
   "outputs": [],
   "source": [
    " '''\n",
    "    请百度查询一下： extend和append的区别\n",
    "    list.append(object) 向列表中添加一个对象object\n",
    "    list.extend(sequence) 把一个序列seq的内容添加到列表中\n",
    "    1、使用append的时候，是将new_media看作一个对象，整体打包添加到music_media对象中。\n",
    "    2、使用extend的时候，是将new_media看作一个序列，将这个序列和music_media序列合并，并放在其后面。\n",
    "    result = []\n",
    "    result.extend([1,2,3])\n",
    "    print result\n",
    "    result.append([4,5,6])\n",
    "    print result\n",
    "    result.extend([7,8,9])\n",
    "    print result\n",
    "    结果：\n",
    "    [1, 2, 3]\n",
    "    [1, 2, 3, [4, 5, 6]]\n",
    "    [1, 2, 3, [4, 5, 6], 7, 8, 9]\n",
    "'''"
   ]
  },
  {
   "cell_type": "code",
   "execution_count": 27,
   "metadata": {
    "collapsed": true
   },
   "outputs": [],
   "source": [
    "'''\n",
    "6. 选择最好的数据集划分方式：\n",
    "   1.遍历整个数据集，循环计算熵和splitDataSet()函数，找到最好的特征划分方式。\n",
    "   2.对每个特征划分数据集的结果计算一次信息熵，然后判断按照那个特征划分数据集是最好的划分方式。\n",
    "\n",
    "参数：\n",
    "    dataSet 数据集\n",
    "返回值：\n",
    "    bestFeature 最优的列特征\n",
    "'''\n",
    "def chooseBestFeatureToSplit(dataSet):\n",
    "    '''\n",
    "    此时dataSet需要满足一定的格式要求：\n",
    "    1.数据集必须是矩阵list of list 格式\n",
    "    2.每个list元素都要有相同的子list数据长度\n",
    "    3.每一行实例的最后一个元素是实例的类别标签\n",
    "    '''\n",
    "    \n",
    "    # 求数据集的第一行有多少个特征列，最后一列是类别标签列，所以减去1\n",
    "    numFeatures = len(dataSet[0])-1\n",
    "    # 数据集的原始信息熵\n",
    "    baseEntropy = calcShannonEnt(dataSet)\n",
    "    # 最优的信息增益值(默认0.0)，和最优的Feature编号(默认-1)\n",
    "    bestInfoGain,bestFeature = 0.0,-1\n",
    "    # 循环遍历每个特征\n",
    "    for i in range(numFeatures):\n",
    "        # 获取指定第i个特征，所对应的所有值\n",
    "        '''\n",
    "        取出dataSet矩阵数据集中，每一行实例的第i个特征的值，组成一个list\n",
    "        '''\n",
    "        featList = [example[i] for example in dataSet]\n",
    "        # 获取去重后的集合，用set对list中的特征值数据进行去重\n",
    "        uniqueVals = set(featList)\n",
    "        # 创建一个临时的信息熵\n",
    "        newEntropy = 0.0\n",
    "        '''\n",
    "        遍历某一指定的特征列的特征值value集合，计算该特征列的信息熵\n",
    "        \n",
    "        遍历第i个特征中所有唯一的特征值，对每一个唯一特征值划分一次数据集：唯一特征值，即表明第i个特征，\n",
    "        到底取了几种数值\n",
    "        \n",
    "        计算数据集的新熵值：按照第i个特征的每种取值(例如：1,0)，会分别抽取出对应特征值0的数据集subDataSet0和\n",
    "        对应特征值1的数据集subDataSet1，即形成两个新划分出来的子数据集叶子结点subDataSet0和subDataSet1\n",
    "        \n",
    "        并对所有唯一特征值得到的熵求和：这个即计算按照第i个特征划分数据集后，得到的结果总的信息熵值。\n",
    "        因为划分了两个叶子结点，所以把两个叶子结点的熵值相加，得到总结果的熵值\n",
    "        '''\n",
    "        \n",
    "        # 遍历第i个特征，所有的取值种类\n",
    "        for value in uniqueVals:\n",
    "            '''\n",
    "            参数说明：\n",
    "             dataSet：带划分的数据集\n",
    "             i：指定第i个特征\n",
    "             value：指定第i个特征的特征值\n",
    "            返回值：\n",
    "             subDataSet：返回，取第i个特征列，特征值为value的数据集\n",
    "             该数据集需要排除第index个特征列，即返回的数据集要把这个用\n",
    "             来指定划分的特征列去掉\n",
    "            '''\n",
    "            subDataSet = splitDataSet(dataSet,i,value)\n",
    "            # 计算概率\n",
    "            prob = len(subDataSet)/float(len(dataSet))\n",
    "            '''\n",
    "            1.calcShannonEnt(subDataSet)计算信息熵:计算第i个特征，在特征值=value情况下，划分数据集后的熵值\n",
    "            2.并对所有唯一特征值得到的熵求和：这个即计算按照第i个特征划分数据集后，得到的结果总的信息熵值。\n",
    "            3.把在特征值=每种value情况下，划分数据集后的熵值，进行求和。得到按照第i个特征划分数据集后，得到的结果总的信息熵值。\n",
    "            4.注意，这里求和额外还增加了prob概率的乘积，再求和\n",
    "            '''\n",
    "            newEntropy += prob*calcShannonEnt(subDataSet)\n",
    "        # gain信息增益：划分数据集前后信息熵的差值，获取信息熵差值最大的值\n",
    "        # 信息增益是熵的减少或者是数据无序度的减少，比较所有特征中的信息增益，返回\n",
    "        # 最好特征划分的索引值\n",
    "        infoGain = baseEntropy - newEntropy\n",
    "        print('infoGain=',infoGain,'bestFeature=',i,baseEntropy,newEntropy)\n",
    "        if (infoGain > bestInfoGain):\n",
    "            bestInfoGain = infoGain\n",
    "            bestFeature = i\n",
    "    return bestFeature\n",
    "    \n"
   ]
  },
  {
   "cell_type": "code",
   "execution_count": 23,
   "metadata": {},
   "outputs": [
    {
     "data": {
      "text/plain": [
       "[[1, 1, 'maybe'], [1, 1, 'yes'], [1, 0, 'no'], [0, 1, 'no'], [0, 1, 'no']]"
      ]
     },
     "execution_count": 23,
     "metadata": {},
     "output_type": "execute_result"
    }
   ],
   "source": [
    "'''\n",
    "chooseBestFeatureToSplit方法测试\n",
    "'''\n",
    "myDat"
   ]
  },
  {
   "cell_type": "code",
   "execution_count": 28,
   "metadata": {},
   "outputs": [
    {
     "name": "stdout",
     "output_type": "stream",
     "text": [
      "infoGain= 0.41997309402197514 bestFeature= 0 1.3709505944546687 0.9509775004326936\n",
      "infoGain= 0.17095059445466854 bestFeature= 1 1.3709505944546687 1.2000000000000002\n"
     ]
    },
    {
     "data": {
      "text/plain": [
       "0"
      ]
     },
     "execution_count": 28,
     "metadata": {},
     "output_type": "execute_result"
    }
   ],
   "source": [
    "chooseBestFeatureToSplit(myDat)"
   ]
  },
  {
   "cell_type": "code",
   "execution_count": 47,
   "metadata": {
    "collapsed": true
   },
   "outputs": [],
   "source": [
    "'''\n",
    "7. 递归的创建决策树\n",
    "'''\n",
    "''' \n",
    "第二个停止条件：使用完了所有特征，仍然不能讲数据集划分成仅包含唯一类别的分组：此时\n",
    "即数据集只有1列,只有类别标签列。因为在‘选择数据集最好划分方式’的算法中，每次划分都\n",
    "会减去指定的特征值，当所有特征值用过之后，即将数据集所有的特征值全部减去了，只剩下\n",
    "类别标签列。\n",
    "\n",
    "那么选出出现次数最多的分类名称，作为结果\n",
    "'''\n",
    "def majorityCnt(classList):\n",
    "    classCount={}\n",
    "    for vote in classList:\n",
    "        # 简写法：.get(key,default)键信息存在则返回相应值信息，否则返回默认值\n",
    "        classCount[vote] = classCount.get(vote,0) + 1\n",
    "    sortedClassCount = sorted(classCount.items(),key=operator.itemgetter(1),reverse=True)\n",
    "    return sortedClassCount[0][0]\n",
    "    \n",
    "    \n",
    "\n",
    "def createTree(dataSet,labels):\n",
    "    '''\n",
    "    参数：\n",
    "    dataSet 待划分的数据集\n",
    "    labels 标签列表：数据集所有特征的标签,见书P36，即特征名称单独组成的list\n",
    "    \n",
    "    '''\n",
    "    \n",
    "    # 取出数据集dataSet矩阵，每一行的最后一个元素(即类别标签)，组成一个list\n",
    "    # 即组成一个类别标签list\n",
    "    classList = [example[-1] for example in dataSet]\n",
    "    '''\n",
    "    当数据集只有一个类别时：\n",
    "    \n",
    "    类别标签列表list的第0个元素的类别统计数量classList.count(classList[0])\n",
    "    \n",
    "    等于 \n",
    "    \n",
    "    类别标签list的长度len(classList)\n",
    "    \n",
    "    直接返回结果就好\n",
    "    \n",
    "    第一个停止条件：所有的类别标签完全相同，则直接返回该类别标签\n",
    "    count() 函数是统计括号中的值在list中出现的次数\n",
    "    '''\n",
    "    if classList.count(classList[0]) == len(classList):\n",
    "        return classList[0]\n",
    "    '''\n",
    "    如果数据集只有1列,即只有类别标签列:len(dataSet[0]) == 1\n",
    "    \n",
    "    dataSet为list of list 的矩阵，dataSet[0]取得是第一行的子list，如果第一行的子list\n",
    "    长度为1，说明数据集只有一个列：则通过投票表决算法，将出现次数最多的类别标签作为结果。\n",
    "    \n",
    "    第二个停止条件：使用完了所有特征，仍然不能讲数据集划分成仅包含唯一类别的分组：此时\n",
    "    即数据集只有1列,只有类别标签列。因为在‘选择数据集最好划分方式’的算法中，每次划分都\n",
    "    会减去指定的特征值，当所有特征值用过之后，即将数据集所有的特征值全部减去了，只剩下\n",
    "    类别标签列。\n",
    "    \n",
    "    那么选出出现次数最多的分类名称，作为结果\n",
    "    '''\n",
    "    if len(dataSet[0]) == 1:\n",
    "        return majorityCnt(classList)\n",
    "    \n",
    "    # 选择最优的特征列，得到最优特征列对应的特征label含义(即获取最优特征列的特征名称)\n",
    "    bestFeat = chooseBestFeatureToSplit(dataSet)\n",
    "    \n",
    "    print(bestFeat)\n",
    "    # 获取label的名称：即获取最优的特征的名称\n",
    "    '''\n",
    "        我们在处理数据之前，已经将特征名称单独列出来组成了一个特征名称的label列表：见书P36页\n",
    "        labels[bestFeat]即得到对应bestFeat索引的特征的名称\n",
    "    '''\n",
    "    bestFeatLabel = labels[bestFeat]\n",
    "    # 初始化myTree，是一个嵌套字典的格式，得到当前最好的特征标签\n",
    "    myTree = {bestFeatLabel:{}}\n",
    "    # 注：labels列表是可变对象，在python语言中函数参数是列表类型时，参数\n",
    "    # 是按照引用方式传递的，能够被全局修改\n",
    "    # 所以这行代码会将函数外同名变量进行元素删除\n",
    "    # 注意：如果反复执行这个代码，会出现函数外的同名变量被删除了元素，造成例句无法执行，提示'no surfacing' is not in list\n",
    "    del(labels[bestFeat])\n",
    "    # 循环读取数据集dataSet每一行的实例，取得每一行实例的bestFeat特征对应的\n",
    "    # 特征值，组成list\n",
    "    featValues = [example[bestFeat] for example in dataSet]\n",
    "    # 用set对list中的特征值数据进行去重\n",
    "    uniqueVals = set(featValues)\n",
    "    for value in uniqueVals:\n",
    "        # 复制类别标签给subLabels。因为python语言中函数参数是列表类型时，\n",
    "        # 参数是按照引用方式传递的。为了保证每次调用函数createTree()时\n",
    "        # 不改变原始列表的内容，使用新变量subLabels替代原始列表\n",
    "        '''\n",
    "        得到当前剩余的特征标签，即剩余的特征名称list，因为前面del(labels[bestFeat])\n",
    "        将已经当做最优特征用过的特征标签，已经从labels的特征名称list中去除了\n",
    "        ''' \n",
    "        subLabels = labels[:]\n",
    "        '''\n",
    "        bestFeatLabel最优特征的名称,value最优特征所有的取值\n",
    "        \n",
    "        myTree = {beatFeatLabel:{}} 构建嵌套字典的格式: \n",
    "        内层{}又是一个键值对的形式：\n",
    "        键数据：value最优特征的取值\n",
    "        值数据: 类别标签，上方两个停止递归条件返回的类别标签\n",
    "        \n",
    "        '''\n",
    "        myTree[bestFeatLabel][value] = createTree(splitDataSet(dataSet,bestFeat,value),subLabels)\n",
    "    \n",
    "    return myTree\n",
    "    "
   ]
  },
  {
   "cell_type": "code",
   "execution_count": 59,
   "metadata": {},
   "outputs": [
    {
     "name": "stdout",
     "output_type": "stream",
     "text": [
      "[[1, 1, 'yes'], [1, 1, 'yes'], [1, 0, 'no'], [0, 1, 'no'], [0, 1, 'no']]\n",
      "['no surfacing', 'flippers']\n",
      "infoGain= 0.4199730940219749 bestFeature= 0 0.9709505944546686 0.5509775004326937\n",
      "infoGain= 0.17095059445466854 bestFeature= 1 0.9709505944546686 0.8\n",
      "infoGain= 0.9182958340544896 bestFeature= 0 0.9182958340544896 0.0\n",
      "{'no surfacing': {0: 'no', 1: {'flippers': {0: 'no', 1: 'yes'}}}}\n"
     ]
    }
   ],
   "source": [
    "#新建一个数据集和特征名称标签列\n",
    "myDat,labels = createDataSet()\n",
    "print(myDat)\n",
    "print(labels)\n",
    "# 通过训练集myDat构造myTree决策树模型\n",
    "myTree = createTree(myDat,labels)\n",
    "print(myTree)"
   ]
  },
  {
   "cell_type": "code",
   "execution_count": null,
   "metadata": {
    "collapsed": true
   },
   "outputs": [],
   "source": [
    "'''\n",
    "补充学习\n",
    "labels的出处：\n",
    "\n",
    "1. 我们利用 createDataSet() 函数输入数据\n",
    "'''\n",
    "def createDataSet():\n",
    "    dataSet = [[1,1,'yes'],\n",
    "               [1,1,'yes'],\n",
    "               [1,0,'no'],\n",
    "               [0,1,'no'],\n",
    "               [0,1,'no']]\n",
    "    '''\n",
    "    将特征名称单独列出来组成了一个特征名称的label列表\n",
    "    '''\n",
    "    labels = ['no surfacing','flippers']\n",
    "    return dataSet,labels"
   ]
  },
  {
   "cell_type": "code",
   "execution_count": 2,
   "metadata": {},
   "outputs": [
    {
     "data": {
      "text/plain": [
       "'no'"
      ]
     },
     "execution_count": 2,
     "metadata": {},
     "output_type": "execute_result"
    }
   ],
   "source": [
    "'''\n",
    "补充学习，通过字典嵌套来保存决策树的所有信息\n",
    "在机器学习中会用字典的嵌套来存储决策树的信息，对绘制树形图有很大的作用，其中嵌套字典的生成是一个递归的过程 \n",
    "如下所示：\n",
    "'''\n",
    "s={'no surfacing':{0:'no',1:{'flippers':{0: 'no', 1: 'yes'}}}}  # 构造字典\n",
    "s['no surfacing'][0]"
   ]
  },
  {
   "cell_type": "code",
   "execution_count": 3,
   "metadata": {},
   "outputs": [
    {
     "data": {
      "text/plain": [
       "{'flippers': {0: 'no', 1: 'yes'}}"
      ]
     },
     "execution_count": 3,
     "metadata": {},
     "output_type": "execute_result"
    }
   ],
   "source": [
    "s['no surfacing'][1]"
   ]
  },
  {
   "cell_type": "code",
   "execution_count": 30,
   "metadata": {},
   "outputs": [
    {
     "data": {
      "text/plain": [
       "{'no sur': {0: 'no'}}"
      ]
     },
     "execution_count": 30,
     "metadata": {},
     "output_type": "execute_result"
    }
   ],
   "source": [
    "# 嵌套构造过程\n",
    "s={'no sur':{}}   \n",
    "s['no sur'][0]='no'\n",
    "s['no sur']\n",
    "s"
   ]
  },
  {
   "cell_type": "code",
   "execution_count": 32,
   "metadata": {},
   "outputs": [
    {
     "data": {
      "text/plain": [
       "{'fli': {0: 'no', 1: 'yes'}}"
      ]
     },
     "execution_count": 32,
     "metadata": {},
     "output_type": "execute_result"
    }
   ],
   "source": [
    "'''\n",
    "在上面构造嵌套字典的过程中，\n",
    "1.可以通过key来得到相应的value，\n",
    "2.而相应的value又可以是由字典构成的，\n",
    "3.再次利用key作为索引层级得到value。\n",
    "\n",
    "4.是嵌套构造的过程，可以看出ss虽然是一个嵌套的字典:{‘fli’: {0: ‘no’, 1: ‘yes’}}整体作为s字典中键数据1的值，\n",
    "在机器学习实战中的创建树的过程中，用到了递归创建的方法.\n",
    "\n",
    "\n",
    "'''\n",
    "ss={'fli':{}}\n",
    "ss['fli'][0]='no'\n",
    "ss['fli'][1]='yes'\n",
    "ss"
   ]
  },
  {
   "cell_type": "code",
   "execution_count": 35,
   "metadata": {},
   "outputs": [
    {
     "data": {
      "text/plain": [
       "{'no sur': {0: 'no', 1: {'fli': {0: 'no', 1: 'yes'}}}}"
      ]
     },
     "execution_count": 35,
     "metadata": {},
     "output_type": "execute_result"
    }
   ],
   "source": [
    "s['no sur'][1]=ss # 其中s是在递归中的最外层\n",
    "s"
   ]
  },
  {
   "cell_type": "code",
   "execution_count": 10,
   "metadata": {},
   "outputs": [
    {
     "data": {
      "text/plain": [
       "{'fli': {0: 'no', 1: 'yes'}}"
      ]
     },
     "execution_count": 10,
     "metadata": {},
     "output_type": "execute_result"
    }
   ],
   "source": [
    "s['no sur'][1]"
   ]
  },
  {
   "cell_type": "code",
   "execution_count": 74,
   "metadata": {
    "collapsed": true
   },
   "outputs": [],
   "source": [
    "'''\n",
    "8.测试算法：使用决策树执行分类\n",
    "将待测数据与决策树模型比对，输出类别结果的过程\n",
    "'''\n",
    "def classify(inputTree,featLabels,testVec):   \n",
    "    '''\n",
    "    参数：\n",
    "        inputTree 决策树模型\n",
    "        featLabels Feature特征标签对应的特征名称列表，\n",
    "                          待测数据集testVec的特征名称列表，同训练数据集的特征名称列表\n",
    "                          即，待测数据集的矩阵结构同训练数据集的矩阵结构，\n",
    "                          每一行实例的特征名称列顺序一直，并且最后一个元素是类别标签\n",
    "        testVec 待测数据，\n",
    "                根据后续测试数据的输入，此时待测数据testVec为[1,0]是一个列表形式\n",
    "                只能算是一个测试集矩阵的一行，而且去除了类别标签列。\n",
    "                只保留特征列的一行数据，即一个只有特征列的实例\n",
    "\n",
    "\n",
    "    返回值：\n",
    "        classLabel 分类的结果值，需要映射label才能知道名称\n",
    "        这里label是指：单独提取特征名称，组成的列表\n",
    "    ''' \n",
    "    # 获取tree的根节点对应的key键数据,inputTree为一个嵌套字典形式\n",
    "    # firstStr = inputTree.keys()[0].#python2的写法\n",
    "    # python3写法：\n",
    "    '''\n",
    "    在2.7中，找到key所对应的第一个元素为：firstStr = myTree.keys()[0]，\n",
    "    这在3.4中运行会报错：‘dict_keys‘ object does not support indexing，\n",
    "    这是因为python3改变了dict.keys,返回的是dict_keys对象,支持iterable 但不支持indexable，\n",
    "    我们可以将其明确的转化成list，则此项功能在3中应这样实现：\n",
    "    firstSides = list(myTree.keys()) \n",
    "    firstStr = firstSides[0]#找到输入的第一个元素\n",
    "    '''\n",
    "    # 获取tree的根节点对应的key键数据,inputTree为一个嵌套字典形式\n",
    "    firstStr = list(inputTree.keys())[0]\n",
    "    # 通过key键数据得到根节点特征对应的value特征值数据,\n",
    "    # 显然inputTree的决策树模型为一个嵌套字典格式，secondDict 仍然为一个嵌套字典形式，里面嵌套有键数据，也有值数据\n",
    "    secondDict = inputTree[firstStr]\n",
    "    # .index()获取索引值，即元素出现的位置：返回根节点的键数据，在特征名称列表中的索引号,即\n",
    "    # 找到根节点对应的特征名称在特征名称列表中的位置\n",
    "    featIndex = featLabels.index(firstStr)\n",
    "#     # 在测试数据中，根据根节点对应的特征名称位置，找到对应输入的测试数据对应的特征名称\n",
    "#     key = testVec[featIndex]\n",
    "    '''\n",
    "    featIndex 是 找到根节点对应的特征名称在特征名称列表中的位置索引\n",
    "    待测数据集testVec的特征名称列表，该列表同 训练数据集的特征名称列表\n",
    "    即，待测数据集的矩阵结构同训练数据集的矩阵结构，\n",
    "    每一行实例的特征名称列顺序一直，并且最后一个元素是类别标签\n",
    "    '''\n",
    "#     # 根据测试数据对应的特征名称，找到inputTree决策树模型该特征的特征值\n",
    "#     valueOfFeat = secondDict[key]\n",
    "    \n",
    "    # secondDict 仍然为一个决策树嵌套字典形式，里面嵌套有键数据，也有值数据\n",
    "    # secondDict.keys()遍历决策树嵌套字典模型中的键数据\n",
    "    for key in secondDict.keys():\n",
    "        # 在测试数据中，根据根节点对应的特征名称位置，找到对应输入的测试数据对应的特征名称\n",
    "        # 如果测试数据中这个特征名称对应的特征值数据和决策树模型中的键数据key相等\n",
    "        '''\n",
    "        myTree:\n",
    "            {'no surfacing': {0: 'no', 1: {'flippers': {0: 'no', 1: 'yes'}}}}\n",
    "        \n",
    "        secondDict:\n",
    "            {0: 'no', 1: {'flippers': {0: 'no', 1: 'yes'}}}\n",
    "        secondDict.keys():\n",
    "            dict_keys([0, 1]) #secondDict的键数据，最外层的字典的两个键数据0,1\n",
    "            0:'no'\n",
    "            1:{'flippers': {0: 'no', 1: 'yes'}}\n",
    "        \n",
    "        '''\n",
    "        # 如果测试数据中这个特征名称对应的特征值数据和决策树模型中的键数据key相等\n",
    "        # 通过待测数据的特征名称等于决策树根节点特征名称的特征值数据与决策树模型中的键数据进行比对\n",
    "        if testVec[featIndex] == key:\n",
    "            # 判断分支是否结束，判断secondDict[key]是否为字典类型\n",
    "            # if type(secondDict[key]).__name__ == 'dict':\n",
    "            # 判断一个变量是否为dict，直接type就好\n",
    "            # 如果secondDict[key]仍为一个字典格式，说明比对在了决策树的嵌套字典部分，需要进一步嵌套拆解，\n",
    "            # 一直拆解到叶子结点为止\n",
    "            if type(secondDict[key]) == dict:\n",
    "                # 仍为嵌套字典的情况下，继续递归调用classify，此时决策树模型输入的是拆解出来的子嵌套字典模型部分\n",
    "                # 递归调用classify可以将决策树递归字典格式，层层拆解出来\n",
    "                classLabel = classify(secondDict[key],featLabels,testVec)\n",
    "            else:\n",
    "                # 如果到达了叶子结点，则决策树字典键数据key对应的值数据value即为类别标签值\n",
    "                classLabel = secondDict[key]\n",
    "    # 比较测试数据中的值和树上的值，最后得到节点\n",
    "    return classLabel\n"
   ]
  },
  {
   "cell_type": "code",
   "execution_count": 75,
   "metadata": {},
   "outputs": [
    {
     "name": "stdout",
     "output_type": "stream",
     "text": [
      "[[1, 1, 'yes'], [1, 1, 'yes'], [1, 0, 'no'], [0, 1, 'no'], [0, 1, 'no']]\n",
      "['no surfacing', 'flippers']\n",
      "infoGain= 0.4199730940219749 bestFeature= 0 0.9709505944546686 0.5509775004326937\n",
      "infoGain= 0.17095059445466854 bestFeature= 1 0.9709505944546686 0.8\n",
      "infoGain= 0.9182958340544896 bestFeature= 0 0.9182958340544896 0.0\n",
      "{'no surfacing': {0: 'no', 1: {'flippers': {0: 'no', 1: 'yes'}}}}\n"
     ]
    }
   ],
   "source": [
    "#新建一个数据集和特征名称标签列\n",
    "myDat,labels = createDataSet()\n",
    "print(myDat)\n",
    "print(labels)\n",
    "# 通过训练集myDat构造myTree决策树模型\n",
    "myTree = createTree(myDat,labels)\n",
    "print(myTree)\n"
   ]
  },
  {
   "cell_type": "code",
   "execution_count": 84,
   "metadata": {},
   "outputs": [
    {
     "data": {
      "text/plain": [
       "{'no surfacing': {0: 'no', 1: {'flippers': {0: 'no', 1: 'yes'}}}}"
      ]
     },
     "execution_count": 84,
     "metadata": {},
     "output_type": "execute_result"
    }
   ],
   "source": [
    "# myTree 决策树模型的格式如下，嵌套字典格式\n",
    "myTree"
   ]
  },
  {
   "cell_type": "code",
   "execution_count": 86,
   "metadata": {},
   "outputs": [
    {
     "name": "stdout",
     "output_type": "stream",
     "text": [
      "no surfacing\n"
     ]
    }
   ],
   "source": [
    "'''\n",
    "补充理解 测试算法中的 核心代码中间数据格式\n",
    "一下均是针对 决策树模型，这个嵌套字典格式的操作\n",
    "'''\n",
    "\n",
    "# 获取myTree决策树模型的根节点对应的key键数据,inputTree为一个嵌套字典形式\n",
    "firstStr = list(myTree.keys())[0]\n",
    "print(firstStr)"
   ]
  },
  {
   "cell_type": "code",
   "execution_count": 88,
   "metadata": {},
   "outputs": [
    {
     "name": "stdout",
     "output_type": "stream",
     "text": [
      "{0: 'no', 1: {'flippers': {0: 'no', 1: 'yes'}}}\n"
     ]
    }
   ],
   "source": [
    "# 通过key键数据得到根节点特征对应的value特征值数据\n",
    "# 显然myTree的决策树模型为一个嵌套字典格式，secondDict 仍然为一个嵌套字典形式，里面嵌套有键数据，也有值数据\n",
    "secondDict = myTree[firstStr]\n",
    "print(secondDict)"
   ]
  },
  {
   "cell_type": "code",
   "execution_count": 90,
   "metadata": {},
   "outputs": [
    {
     "name": "stdout",
     "output_type": "stream",
     "text": [
      "0\n",
      "1\n"
     ]
    },
    {
     "data": {
      "text/plain": [
       "dict_keys([0, 1])"
      ]
     },
     "execution_count": 90,
     "metadata": {},
     "output_type": "execute_result"
    }
   ],
   "source": [
    "# 遍历决策树嵌套字典模型中的键数据\n",
    "\n",
    "'''\n",
    "决策树嵌套字典模型格式：\n",
    "{'no surfacing': {0: 'no', 1: {'flippers': {0: 'no', 1: 'yes'}}}}\n",
    "第一个节点：键数据为‘no surfacing’\n",
    "    它有两个子节点：\n",
    "    第一个叶子结点：键数据为0，值数据为‘no’\n",
    "    第二个判断结点(嵌套字典格式)：键数据为‘flippers’\n",
    "        它有两个子节点：\n",
    "            第一个叶子结点：键数据为0，值数据为‘no’\n",
    "            第二个叶子结点：键数据为1，值数据为'yes'\n",
    "'''\n",
    "for key in secondDict.keys():\n",
    "    print(key)\n",
    "secondDict.keys()"
   ]
  },
  {
   "cell_type": "code",
   "execution_count": 80,
   "metadata": {},
   "outputs": [
    {
     "data": {
      "text/plain": [
       "[[1, 1, 'yes'], [1, 1, 'yes'], [1, 0, 'no'], [0, 1, 'no'], [0, 1, 'no']]"
      ]
     },
     "execution_count": 80,
     "metadata": {},
     "output_type": "execute_result"
    }
   ],
   "source": [
    "myDat"
   ]
  },
  {
   "cell_type": "code",
   "execution_count": 83,
   "metadata": {},
   "outputs": [
    {
     "data": {
      "text/plain": [
       "'yes'"
      ]
     },
     "execution_count": 83,
     "metadata": {},
     "output_type": "execute_result"
    }
   ],
   "source": [
    "myDat[0][2]"
   ]
  },
  {
   "cell_type": "code",
   "execution_count": 76,
   "metadata": {},
   "outputs": [
    {
     "name": "stdout",
     "output_type": "stream",
     "text": [
      "[[1, 1, 'yes'], [1, 1, 'yes'], [1, 0, 'no'], [0, 1, 'no'], [0, 1, 'no']]\n",
      "['no surfacing', 'flippers']\n"
     ]
    },
    {
     "data": {
      "text/plain": [
       "'no'"
      ]
     },
     "execution_count": 76,
     "metadata": {},
     "output_type": "execute_result"
    }
   ],
   "source": [
    "#测试算法:输入一个待测数据的特征list，返回分类结果\n",
    "#新建一个数据集和特征名称标签列:\n",
    "'''\n",
    "因为在构建决策树的时候，会一步步将特征名称列表删除\n",
    "所以测试算法的时候，重新新建一个特征名称列表\n",
    "'''\n",
    "myDat,labels = createDataSet()\n",
    "print(myDat)\n",
    "print(labels)\n",
    "'''\n",
    "显然，此时待测数据testVec为[1,0]是一个列表形式\n",
    "只能算是一个测试集矩阵的一行，而且去除了类别标签列。\n",
    "只保留特征列的一行数据，即一个只有特征列的实例\n",
    "'''\n",
    "classify(myTree,labels,[1,0])"
   ]
  },
  {
   "cell_type": "code",
   "execution_count": 77,
   "metadata": {},
   "outputs": [
    {
     "data": {
      "text/plain": [
       "'yes'"
      ]
     },
     "execution_count": 77,
     "metadata": {},
     "output_type": "execute_result"
    }
   ],
   "source": [
    "classify(myTree,labels,[1,1])"
   ]
  },
  {
   "cell_type": "code",
   "execution_count": 112,
   "metadata": {
    "collapsed": true
   },
   "outputs": [],
   "source": [
    "'''\n",
    "9.使用算法：决策树模型的存储\n",
    "\n",
    "决策树模型通过嵌套字典的格式保存，所有对这个嵌套字典进行序列化保存到本地操作\n",
    "\n",
    "使用python模块pickle序列化对象:pickle模块读写的是二进制格式的文件，所以文件读取写入也要设置为二进制模式\n",
    "Pickle files are binary data files, \n",
    "so you always have to open the file with the 'rb' mode when loading. \n",
    "Don't try to use a text mode here.\n",
    "'''\n",
    "def storeTree(inputTree,filename):\n",
    "    import pickle\n",
    "    fw = open(filename,'wb')\n",
    "    pickle.dump(inputTree,fw)\n",
    "    fw.close()\n",
    "    \n",
    "def grabTree(filename):\n",
    "    import pickle\n",
    "    fr = open(filename,'rb')\n",
    "    return pickle.load(fr)"
   ]
  },
  {
   "cell_type": "code",
   "execution_count": 113,
   "metadata": {},
   "outputs": [
    {
     "data": {
      "text/plain": [
       "{'no surfacing': {0: 'no', 1: {'flippers': {0: 'no', 1: 'yes'}}}}"
      ]
     },
     "execution_count": 113,
     "metadata": {},
     "output_type": "execute_result"
    }
   ],
   "source": [
    "storeTree(myTree,'classifierStorage.txt')\n",
    "grabTree('classifierStorage.txt')"
   ]
  },
  {
   "cell_type": "code",
   "execution_count": null,
   "metadata": {
    "collapsed": true
   },
   "outputs": [],
   "source": [
    "项目案例2: 使用决策树预测隐形眼镜类型"
   ]
  },
  {
   "cell_type": "code",
   "execution_count": null,
   "metadata": {
    "collapsed": true
   },
   "outputs": [],
   "source": [
    "'''\n",
    "项目概述\n",
    "隐形眼镜类型包括硬材质、软材质以及不适合佩戴隐形眼镜。我们需要使用决策树预测患者需要佩戴的隐形眼镜类型。\n",
    "\n",
    "开发流程\n",
    "收集数据: 提供的文本文件。\n",
    "解析数据: 解析 tab 键分隔的数据行\n",
    "分析数据: 快速检查数据，确保正确地解析数据内容，使用 createPlot() 函数绘制最终的树形图。\n",
    "训练算法: 使用 createTree() 函数。\n",
    "测试算法: 编写测试函数验证决策树可以正确分类给定的数据实例。\n",
    "使用算法: 存储树的数据结构，以便下次使用时无需重新构造树。\n",
    "\n",
    "'''"
   ]
  },
  {
   "cell_type": "code",
   "execution_count": 114,
   "metadata": {},
   "outputs": [
    {
     "name": "stdout",
     "output_type": "stream",
     "text": [
      "[['young', 'myope', 'no', 'reduced', 'no lenses'], ['young', 'myope', 'no', 'normal', 'soft'], ['young', 'myope', 'yes', 'reduced', 'no lenses'], ['young', 'myope', 'yes', 'normal', 'hard'], ['young', 'hyper', 'no', 'reduced', 'no lenses'], ['young', 'hyper', 'no', 'normal', 'soft'], ['young', 'hyper', 'yes', 'reduced', 'no lenses'], ['young', 'hyper', 'yes', 'normal', 'hard'], ['pre', 'myope', 'no', 'reduced', 'no lenses'], ['pre', 'myope', 'no', 'normal', 'soft'], ['pre', 'myope', 'yes', 'reduced', 'no lenses'], ['pre', 'myope', 'yes', 'normal', 'hard'], ['pre', 'hyper', 'no', 'reduced', 'no lenses'], ['pre', 'hyper', 'no', 'normal', 'soft'], ['pre', 'hyper', 'yes', 'reduced', 'no lenses'], ['pre', 'hyper', 'yes', 'normal', 'no lenses'], ['presbyopic', 'myope', 'no', 'reduced', 'no lenses'], ['presbyopic', 'myope', 'no', 'normal', 'no lenses'], ['presbyopic', 'myope', 'yes', 'reduced', 'no lenses'], ['presbyopic', 'myope', 'yes', 'normal', 'hard'], ['presbyopic', 'hyper', 'no', 'reduced', 'no lenses'], ['presbyopic', 'hyper', 'no', 'normal', 'soft'], ['presbyopic', 'hyper', 'yes', 'reduced', 'no lenses'], ['presbyopic', 'hyper', 'yes', 'normal', 'no lenses']]\n",
      "['age', 'prescript', 'astigmatic', 'rearRate']\n"
     ]
    }
   ],
   "source": [
    "fr = open('lenses.txt')\n",
    "'''\n",
    "数据集结构：每一行为一个实例，前几列均为特征列，最后一列为类别标签列\n",
    "'''\n",
    "lenses = [inst.strip().split('\\t') for inst in fr.readlines()]\n",
    "lensesLabels = ['age','prescript','astigmatic','rearRate']\n",
    "print(lenses)\n",
    "print(lensesLabels)"
   ]
  },
  {
   "cell_type": "code",
   "execution_count": 116,
   "metadata": {
    "scrolled": true
   },
   "outputs": [
    {
     "name": "stdout",
     "output_type": "stream",
     "text": [
      "infoGain= 0.03939650364612124 bestFeature= 0 1.3260875253642983 1.286691021718177\n",
      "infoGain= 0.039510835423565815 bestFeature= 1 1.3260875253642983 1.2865766899407325\n",
      "infoGain= 0.37700523001147723 bestFeature= 2 1.3260875253642983 0.9490822953528211\n",
      "infoGain= 0.5487949406953986 bestFeature= 3 1.3260875253642983 0.7772925846688997\n",
      "infoGain= 0.22125183600446618 bestFeature= 0 1.5545851693377994 1.3333333333333333\n",
      "infoGain= 0.09543725231055489 bestFeature= 1 1.5545851693377994 1.4591479170272446\n",
      "infoGain= 0.7704260414863776 bestFeature= 2 1.5545851693377994 0.7841591278514218\n",
      "infoGain= 0.3166890883150208 bestFeature= 0 0.6500224216483541 0.3333333333333333\n",
      "infoGain= 0.19087450462110933 bestFeature= 1 0.6500224216483541 0.4591479170272448\n",
      "infoGain= 1.0 bestFeature= 0 1.0 0.0\n",
      "infoGain= 0.2516291673878229 bestFeature= 0 0.9182958340544896 0.6666666666666666\n",
      "infoGain= 0.4591479170272448 bestFeature= 1 0.9182958340544896 0.4591479170272448\n",
      "infoGain= 0.9182958340544896 bestFeature= 0 0.9182958340544896 0.0\n"
     ]
    },
    {
     "data": {
      "text/plain": [
       "{'rearRate': {'normal': {'astigmatic': {'no': {'age': {'pre': 'soft',\n",
       "      'presbyopic': {'prescript': {'hyper': 'soft', 'myope': 'no lenses'}},\n",
       "      'young': 'soft'}},\n",
       "    'yes': {'prescript': {'hyper': {'age': {'pre': 'no lenses',\n",
       "        'presbyopic': 'no lenses',\n",
       "        'young': 'hard'}},\n",
       "      'myope': 'hard'}}}},\n",
       "  'reduced': 'no lenses'}}"
      ]
     },
     "execution_count": 116,
     "metadata": {},
     "output_type": "execute_result"
    }
   ],
   "source": [
    "lensesTree = createTree(lenses,lensesLabels)\n",
    "lensesTree"
   ]
  },
  {
   "cell_type": "code",
   "execution_count": 122,
   "metadata": {},
   "outputs": [
    {
     "data": {
      "image/png": "[encoded data removed]",
      "text/plain": [
       "<matplotlib.figure.Figure at 0x1ff4c7c8ef0>"
      ]
     },
     "metadata": {},
     "output_type": "display_data"
    }
   ],
   "source": [
    "createPlot(lensesTree)"
   ]
  },
  {
   "cell_type": "code",
   "execution_count": null,
   "metadata": {
    "collapsed": true
   },
   "outputs": [],
   "source": [
    "'''\n",
    "之前我们已经从数据集中成功的创建了决策树，\n",
    "\n",
    "但是字典的形式非常的不易于理解，\n",
    "\n",
    "因此本节采用Matplotlib库创建树形图。\n",
    "\n",
    "首先，使用文本注解绘制树节点：\n",
    "\n",
    "'''"
   ]
  },
  {
   "cell_type": "code",
   "execution_count": 2,
   "metadata": {
    "collapsed": true
   },
   "outputs": [],
   "source": [
    "##采用matplotlib绘制树形图\n",
    "import matplotlib.pyplot as plt\n",
    "\n",
    "decisionNode = dict(boxstyle=\"sawtooth\", fc=\"0.8\")\n",
    "leafNode = dict(boxstyle=\"round4\", fc=\"0.8\")\n",
    "arrow_args = dict(arrowstyle=\"<-\")\n",
    "\n",
    " #绘制树节点\n",
    "def plotNode(nodeTxt, centerPt, parentPt, nodeType):\n",
    "    createPlot.ax1.annotate(nodeTxt, xy=parentPt,  xycoords='axes fraction',\n",
    "             xytext=centerPt, textcoords='axes fraction',\n",
    "             va=\"center\", ha=\"center\", bbox=nodeType, arrowprops=arrow_args )"
   ]
  },
  {
   "cell_type": "code",
   "execution_count": 3,
   "metadata": {},
   "outputs": [
    {
     "name": "stdout",
     "output_type": "stream",
     "text": [
      "3\n",
      "2\n"
     ]
    }
   ],
   "source": [
    "'''\n",
    "获得叶节点的数目和树的层数，并进行测试：\n",
    "'''\n",
    "##获取节点的数目和树的层数 \n",
    "def getNumLeafs(myTree):\n",
    "    numLeafs = 0\n",
    "    #firstStr = myTree.keys()[0]\n",
    "    firstSides = list(myTree.keys())\n",
    "    firstStr = firstSides[0]#找到输入的第一个元素\n",
    "    secondDict = myTree[firstStr]\n",
    "    for key in secondDict.keys():\n",
    "        if type(secondDict[key]) == dict:\n",
    "            numLeafs += getNumLeafs(secondDict[key])\n",
    "        else: numLeafs += 1\n",
    "    return numLeafs\n",
    "\n",
    "def getTreeDepth(myTree):\n",
    "    maxDepth = 1\n",
    "    firstSides = list(myTree.keys())\n",
    "    firstStr = firstSides[0]#找到输入的第一个元素\n",
    "    #firstStr = myTree.keys()[0]\n",
    "    secondDict = myTree[firstStr]\n",
    "    for key in secondDict.keys():\n",
    "        if type(secondDict[key]) == dict:\n",
    "            thisDepth = 1 + getTreeDepth(secondDict[key])\n",
    "        else: thisDepth = 1\n",
    "    if thisDepth > maxDepth: maxDepth = thisDepth\n",
    "    return maxDepth\n",
    "\n",
    "def retrieveTree(i):\n",
    "    listOfTrees =[{'no surfacing': {0: 'no', 1: {'flippers': {0: 'no', 1: 'yes'}}}},\n",
    "    {'no surfacing': {0: 'no', 1: {'flippers': {0: {'head': {0: 'no', 1: 'yes'}}, 1: 'no'}}}}\n",
    "    ]\n",
    "    return listOfTrees[i]\n",
    "\n",
    "\n",
    "#测试\n",
    "mytree = retrieveTree(0)\n",
    "print(getNumLeafs(mytree))\n",
    "print(getTreeDepth(mytree))\n"
   ]
  },
  {
   "cell_type": "code",
   "execution_count": 4,
   "metadata": {},
   "outputs": [
    {
     "name": "stdout",
     "output_type": "stream",
     "text": [
      "{'no surfacing': {0: 'no', 1: {'flippers': {0: 'no', 1: 'yes'}}}}\n"
     ]
    },
    {
     "data": {
      "image/png": "[encoded data removed]",
      "text/plain": [
       "<matplotlib.figure.Figure at 0x250c03a5550>"
      ]
     },
     "metadata": {},
     "output_type": "display_data"
    }
   ],
   "source": [
    "'''\n",
    "绘制树：\n",
    "'''\n",
    "def plotNode(nodeTxt, centerPt, parentPt, nodeType):\n",
    "    createPlot.ax1.annotate(nodeTxt, xy=parentPt,  xycoords='axes fraction',\n",
    "             xytext=centerPt, textcoords='axes fraction',\n",
    "             va=\"center\", ha=\"center\", bbox=nodeType, arrowprops=arrow_args )\n",
    "    \n",
    "def plotMidText(cntrPt, parentPt, txtString):\n",
    "    xMid = (parentPt[0]-cntrPt[0])/2.0 + cntrPt[0]\n",
    "    yMid = (parentPt[1]-cntrPt[1])/2.0 + cntrPt[1]\n",
    "    createPlot.ax1.text(xMid, yMid, txtString, va=\"center\", ha=\"center\", rotation=30)\n",
    "\n",
    "def plotTree(myTree, parentPt, nodeTxt):\n",
    "    numLeafs = getNumLeafs(myTree)  \n",
    "    depth = getTreeDepth(myTree)\n",
    "    firstSides = list(myTree.keys())\n",
    "    firstStr = firstSides[0]#找到输入的第一个元素\n",
    "    cntrPt = (plotTree.xOff + (1.0 + float(numLeafs))/2.0/plotTree.totalW, plotTree.yOff)\n",
    "    plotMidText(cntrPt, parentPt, nodeTxt)\n",
    "    plotNode(firstStr, cntrPt, parentPt, decisionNode)\n",
    "    secondDict = myTree[firstStr]\n",
    "    plotTree.yOff = plotTree.yOff - 1.0/plotTree.totalD\n",
    "    for key in secondDict.keys():\n",
    "        if type(secondDict[key]).__name__=='dict':   \n",
    "            plotTree(secondDict[key],cntrPt,str(key))        \n",
    "        else:   \n",
    "            plotTree.xOff = plotTree.xOff + 1.0/plotTree.totalW\n",
    "            plotNode(secondDict[key], (plotTree.xOff, plotTree.yOff), cntrPt, leafNode)\n",
    "            plotMidText((plotTree.xOff, plotTree.yOff), cntrPt, str(key))\n",
    "    plotTree.yOff = plotTree.yOff + 1.0/plotTree.totalD\n",
    "\n",
    "def createPlot(inTree):\n",
    "    fig = plt.figure(1, facecolor='white')\n",
    "    fig.clf()\n",
    "    axprops = dict(xticks=[], yticks=[])\n",
    "    createPlot.ax1 = plt.subplot(111, frameon=False, **axprops)    \n",
    "    plotTree.totalW = float(getNumLeafs(inTree))\n",
    "    plotTree.totalD = float(getTreeDepth(inTree))\n",
    "    plotTree.xOff = -0.5/plotTree.totalW; plotTree.yOff = 1.0;\n",
    "    plotTree(inTree, (0.5,1.0), '')\n",
    "    plt.show()\n",
    "    \n",
    "\n",
    "#测试\n",
    "mytree = retrieveTree(0)\n",
    "print(mytree)\n",
    "createPlot(mytree)"
   ]
  },
  {
   "cell_type": "code",
   "execution_count": 18,
   "metadata": {},
   "outputs": [
    {
     "name": "stdout",
     "output_type": "stream",
     "text": [
      "{'code': '20171551', 'chinese_name': '超临界流体色谱测定塑料中塑化剂、己内酰胺等方法', 'english_name': '无', 'ns_officer_id': '18ffeb3a-4218-4b55-843d-118a24280e01', 'ns_officer_name': '卞志昕', 'report_copies': 2, 'science_and_technology_essential': '无', 'ns_essential': '无', 'keywords': '123', 'attachments': '5666', 'subject_code': '', 'wty_id': 'c9b7c4b2-988b-4021-878b-c9a79af48486', 'status': 2, 'invoice_status': False, 'auditor_id': '无', 'auditor_name': '无', 'status_comments': '无', 'invoice_amount': '无', 'project_time': {'start_time': {'$date': '2017-12-05T00:00:00.000Z'}, 'delivery_time': {'$date': '2017-11-10T00:00:00.000Z'}}, 'report_delivery_way': {'_type': 0}, 'mandate_unit': {'name': '上海出入境检验检疫局动植物与食品检验检疫技术中心', 'address': '民生路1208号', 'register_origin': '无', 'postcode': '', 'email': 'maming@shciq.gov.cn', 'principal': '', 'principal_fax': '无', 'contact_person': '无', 'contact_person_contact': '无', 'principal_contact': '', 'type': ''}, 'ns_type': {'_type': 0, 'goals': [{'_type': 1, 'comments': '无'}], 'range': 1, 'report_type': []}, 'expense': {'elementary': 4000.0, 'urgent': 2000.0, 'print': 0.0, 'express': 0.0, 'others': 0.0, 'total': 6000.0, 'payment': {'_type': 0}}, 'belong_to_department': {'id': '58cb373fdad3fd56f5294f08', 'name': '技术情报部'}, 'Invoices': {'Invoice': {'code': ['']}, 'Payment': {'_type': 0, 'date': ''}, 'invoice_amount': 0.0}}\n"
     ]
    },
    {
     "ename": "AttributeError",
     "evalue": "'str' object has no attribute 'keys'",
     "output_type": "error",
     "traceback": [
      "\u001b[1;31m---------------------------------------------------------------------------\u001b[0m",
      "\u001b[1;31mAttributeError\u001b[0m                            Traceback (most recent call last)",
      "\u001b[1;32m<ipython-input-18-b1a9eb414e1c>\u001b[0m in \u001b[0;36m<module>\u001b[1;34m()\u001b[0m\n\u001b[0;32m      9\u001b[0m \u001b[0mdicttest\u001b[0m \u001b[1;33m=\u001b[0m \u001b[0mjson\u001b[0m\u001b[1;33m.\u001b[0m\u001b[0mloads\u001b[0m\u001b[1;33m(\u001b[0m\u001b[0mstrtest\u001b[0m\u001b[1;33m)\u001b[0m\u001b[1;33m\u001b[0m\u001b[0m\n\u001b[0;32m     10\u001b[0m \u001b[0mprint\u001b[0m\u001b[1;33m(\u001b[0m\u001b[0mdicttest\u001b[0m\u001b[1;33m)\u001b[0m\u001b[1;33m\u001b[0m\u001b[0m\n\u001b[1;32m---> 11\u001b[1;33m \u001b[0mcreatePlot\u001b[0m\u001b[1;33m(\u001b[0m\u001b[0mdicttest\u001b[0m\u001b[1;33m)\u001b[0m\u001b[1;33m\u001b[0m\u001b[0m\n\u001b[0m\u001b[0;32m     12\u001b[0m \u001b[1;31m# print(strtest)\u001b[0m\u001b[1;33m\u001b[0m\u001b[1;33m\u001b[0m\u001b[0m\n",
      "\u001b[1;32m<ipython-input-4-a394fcd572e9>\u001b[0m in \u001b[0;36mcreatePlot\u001b[1;34m(inTree)\u001b[0m\n\u001b[0;32m     36\u001b[0m     \u001b[0maxprops\u001b[0m \u001b[1;33m=\u001b[0m \u001b[0mdict\u001b[0m\u001b[1;33m(\u001b[0m\u001b[0mxticks\u001b[0m\u001b[1;33m=\u001b[0m\u001b[1;33m[\u001b[0m\u001b[1;33m]\u001b[0m\u001b[1;33m,\u001b[0m \u001b[0myticks\u001b[0m\u001b[1;33m=\u001b[0m\u001b[1;33m[\u001b[0m\u001b[1;33m]\u001b[0m\u001b[1;33m)\u001b[0m\u001b[1;33m\u001b[0m\u001b[0m\n\u001b[0;32m     37\u001b[0m     \u001b[0mcreatePlot\u001b[0m\u001b[1;33m.\u001b[0m\u001b[0max1\u001b[0m \u001b[1;33m=\u001b[0m \u001b[0mplt\u001b[0m\u001b[1;33m.\u001b[0m\u001b[0msubplot\u001b[0m\u001b[1;33m(\u001b[0m\u001b[1;36m111\u001b[0m\u001b[1;33m,\u001b[0m \u001b[0mframeon\u001b[0m\u001b[1;33m=\u001b[0m\u001b[1;32mFalse\u001b[0m\u001b[1;33m,\u001b[0m \u001b[1;33m**\u001b[0m\u001b[0maxprops\u001b[0m\u001b[1;33m)\u001b[0m\u001b[1;33m\u001b[0m\u001b[0m\n\u001b[1;32m---> 38\u001b[1;33m     \u001b[0mplotTree\u001b[0m\u001b[1;33m.\u001b[0m\u001b[0mtotalW\u001b[0m \u001b[1;33m=\u001b[0m \u001b[0mfloat\u001b[0m\u001b[1;33m(\u001b[0m\u001b[0mgetNumLeafs\u001b[0m\u001b[1;33m(\u001b[0m\u001b[0minTree\u001b[0m\u001b[1;33m)\u001b[0m\u001b[1;33m)\u001b[0m\u001b[1;33m\u001b[0m\u001b[0m\n\u001b[0m\u001b[0;32m     39\u001b[0m     \u001b[0mplotTree\u001b[0m\u001b[1;33m.\u001b[0m\u001b[0mtotalD\u001b[0m \u001b[1;33m=\u001b[0m \u001b[0mfloat\u001b[0m\u001b[1;33m(\u001b[0m\u001b[0mgetTreeDepth\u001b[0m\u001b[1;33m(\u001b[0m\u001b[0minTree\u001b[0m\u001b[1;33m)\u001b[0m\u001b[1;33m)\u001b[0m\u001b[1;33m\u001b[0m\u001b[0m\n\u001b[0;32m     40\u001b[0m     \u001b[0mplotTree\u001b[0m\u001b[1;33m.\u001b[0m\u001b[0mxOff\u001b[0m \u001b[1;33m=\u001b[0m \u001b[1;33m-\u001b[0m\u001b[1;36m0.5\u001b[0m\u001b[1;33m/\u001b[0m\u001b[0mplotTree\u001b[0m\u001b[1;33m.\u001b[0m\u001b[0mtotalW\u001b[0m\u001b[1;33m;\u001b[0m \u001b[0mplotTree\u001b[0m\u001b[1;33m.\u001b[0m\u001b[0myOff\u001b[0m \u001b[1;33m=\u001b[0m \u001b[1;36m1.0\u001b[0m\u001b[1;33m;\u001b[0m\u001b[1;33m\u001b[0m\u001b[0m\n",
      "\u001b[1;32m<ipython-input-3-eca5cd30e5f8>\u001b[0m in \u001b[0;36mgetNumLeafs\u001b[1;34m(myTree)\u001b[0m\n\u001b[0;32m      9\u001b[0m     \u001b[0mfirstStr\u001b[0m \u001b[1;33m=\u001b[0m \u001b[0mfirstSides\u001b[0m\u001b[1;33m[\u001b[0m\u001b[1;36m0\u001b[0m\u001b[1;33m]\u001b[0m\u001b[1;31m#找到输入的第一个元素\u001b[0m\u001b[1;33m\u001b[0m\u001b[0m\n\u001b[0;32m     10\u001b[0m     \u001b[0msecondDict\u001b[0m \u001b[1;33m=\u001b[0m \u001b[0mmyTree\u001b[0m\u001b[1;33m[\u001b[0m\u001b[0mfirstStr\u001b[0m\u001b[1;33m]\u001b[0m\u001b[1;33m\u001b[0m\u001b[0m\n\u001b[1;32m---> 11\u001b[1;33m     \u001b[1;32mfor\u001b[0m \u001b[0mkey\u001b[0m \u001b[1;32min\u001b[0m \u001b[0msecondDict\u001b[0m\u001b[1;33m.\u001b[0m\u001b[0mkeys\u001b[0m\u001b[1;33m(\u001b[0m\u001b[1;33m)\u001b[0m\u001b[1;33m:\u001b[0m\u001b[1;33m\u001b[0m\u001b[0m\n\u001b[0m\u001b[0;32m     12\u001b[0m         \u001b[1;32mif\u001b[0m \u001b[0mtype\u001b[0m\u001b[1;33m(\u001b[0m\u001b[0msecondDict\u001b[0m\u001b[1;33m[\u001b[0m\u001b[0mkey\u001b[0m\u001b[1;33m]\u001b[0m\u001b[1;33m)\u001b[0m \u001b[1;33m==\u001b[0m \u001b[0mdict\u001b[0m\u001b[1;33m:\u001b[0m\u001b[1;33m\u001b[0m\u001b[0m\n\u001b[0;32m     13\u001b[0m             \u001b[0mnumLeafs\u001b[0m \u001b[1;33m+=\u001b[0m \u001b[0mgetNumLeafs\u001b[0m\u001b[1;33m(\u001b[0m\u001b[0msecondDict\u001b[0m\u001b[1;33m[\u001b[0m\u001b[0mkey\u001b[0m\u001b[1;33m]\u001b[0m\u001b[1;33m)\u001b[0m\u001b[1;33m\u001b[0m\u001b[0m\n",
      "\u001b[1;31mAttributeError\u001b[0m: 'str' object has no attribute 'keys'"
     ]
    }
   ],
   "source": [
    "# import json\n",
    "\n",
    "# user_info = '{\"name\": \"john\", \"gender\": \"male\", \"age\": 28}'\n",
    "# print(json.loads(user_info))\n",
    "\n",
    "\n",
    "import json\n",
    "strtest = '{\"code\":\"20171551\",\"chinese_name\":\"超临界流体色谱测定塑料中塑化剂、己内酰胺等方法\",\"english_name\":\"无\",\"ns_officer_id\":\"18ffeb3a-4218-4b55-843d-118a24280e01\",\"ns_officer_name\":\"卞志昕\",\"report_copies\":2,\"science_and_technology_essential\":\"无\",\"ns_essential\":\"无\",\"keywords\":\"123\",\"attachments\":\"5666\",\"subject_code\":\"\",\"wty_id\":\"c9b7c4b2-988b-4021-878b-c9a79af48486\",\"status\":2,\"invoice_status\":false,\"auditor_id\":\"无\",\"auditor_name\":\"无\",\"status_comments\":\"无\",\"invoice_amount\":\"无\",\"project_time\":{\"start_time\":{\"$date\":\"2017-12-05T00:00:00.000Z\"},\"delivery_time\":{\"$date\":\"2017-11-10T00:00:00.000Z\"}},\"report_delivery_way\":{\"_type\":0},\"mandate_unit\":{\"name\":\"上海出入境检验检疫局动植物与食品检验检疫技术中心\",\"address\":\"民生路1208号\",\"register_origin\":\"无\",\"postcode\":\"\",\"email\":\"maming@shciq.gov.cn\",\"principal\":\"\",\"principal_fax\":\"无\",\"contact_person\":\"无\",\"contact_person_contact\":\"无\",\"principal_contact\":\"\",\"type\":\"\"},\"ns_type\":{\"_type\":0,\"goals\":[{\"_type\":1,\"comments\":\"无\"}],\"range\":1,\"report_type\":[]},\"expense\":{\"elementary\":4000.0,\"urgent\":2000.0,\"print\":0.0,\"express\":0.0,\"others\":0.0,\"total\":6000.0,\"payment\":{\"_type\":0}},\"belong_to_department\":{\"id\":\"58cb373fdad3fd56f5294f08\",\"name\":\"技术情报部\"},\"Invoices\":{\"Invoice\":{\"code\":[\"\"]},\"Payment\":{\"_type\":0,\"date\":\"\"},\"invoice_amount\":0.0}}'\n",
    "dicttest = json.loads(strtest)\n",
    "print(dicttest)\n",
    "createPlot(dicttest)\n",
    "# print(strtest)"
   ]
  }
 ],
 "metadata": {
  "kernelspec": {
   "display_name": "Python 3",
   "language": "python",
   "name": "python3"
  },
  "language_info": {
   "codemirror_mode": {
    "name": "ipython",
    "version": 3
   },
   "file_extension": ".py",
   "mimetype": "text/x-python",
   "name": "python",
   "nbconvert_exporter": "python",
   "pygments_lexer": "ipython3",
   "version": "3.6.3"
  }
 },
 "nbformat": 4,
 "nbformat_minor": 2
}
